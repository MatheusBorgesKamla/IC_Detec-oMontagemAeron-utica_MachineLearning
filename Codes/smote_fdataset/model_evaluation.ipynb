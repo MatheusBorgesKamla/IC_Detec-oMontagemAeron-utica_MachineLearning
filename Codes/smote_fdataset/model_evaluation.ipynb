{
 "cells": [
  {
   "cell_type": "markdown",
   "metadata": {},
   "source": [
    "# Metrics Visualization"
   ]
  },
  {
   "cell_type": "markdown",
   "metadata": {},
   "source": [
    "## Parameters Setup"
   ]
  },
  {
   "cell_type": "code",
   "execution_count": null,
   "metadata": {},
   "outputs": [],
   "source": [
    "## File Handlers\n",
    "DATA_SET_PATH='..\\..\\Data\\train_test\\\\'\n",
    "\n",
    "TRAIN_SET='X_train.csv'\n",
    "TRAIN_SET_TARGET='y_train.csv'\n",
    "\n",
    "TEST_SET='X_test.csv'\n",
    "TEST_SET_TARGET='y_test.csv'\n",
    "\n",
    "MODEL_PATH='..\\..\\Models\\\\'\n",
    "MODEL_NAME='mlp_simple.h5'\n",
    "\n",
    "## Training Parameters\n",
    "# workers determine the number of cpu cores to be used\n",
    "n_workers = 8\n",
    "n_epochs = 100\n",
    "\n",
    "## Features Selection\n",
    "features = []\n",
    "\n",
    "# Option to standardize data\n",
    "IS_STANDARDAZIDED=False\n",
    "\n",
    "# Option to retrain model in given dataset\n",
    "RETRAIN_MODEL=True\n",
    "\n",
    "# Option to save logs and graphs\n",
    "SAVE_RESULTS=False\n",
    "\n",
    "'''if SAVE_RESULTS == True:\n",
    "    import os\n",
    "    os.mkdir('')'''"
   ]
  },
  {
   "cell_type": "code",
   "execution_count": null,
   "metadata": {},
   "outputs": [],
   "source": [
    "import pandas as pd\n",
    "import numpy as np\n",
    "import matplotlib.pyplot as mlp\n",
    "from tensorflow import keras"
   ]
  },
  {
   "cell_type": "markdown",
   "metadata": {},
   "source": [
    "## Dataset Setup"
   ]
  },
  {
   "cell_type": "code",
   "execution_count": null,
   "metadata": {},
   "outputs": [],
   "source": [
    "## Loading datasets\n",
    "X_train = pd.read_csv(DATA_SET_PATH+TRAIN_SET, index_col=0)\n",
    "X_test = pd.read_csv(DATA_SET_PATH+TEST_SET, index_col=0)\n",
    "y_train = pd.read_csv(DATA_SET_PATH+TRAIN_SET_TARGET, index_col=0)\n",
    "y_test = pd.read_csv(DATA_SET_PATH+TEST_SET_TARGET, index_col=0)\n",
    "\n",
    "## Filtering the desired features\n",
    "X_train = X_train.iloc[:, X_train.columns.str.contains(features)]\n",
    "X_test = X_test.iloc[:, X_test.columns.str.contains(features)]\n",
    "\n",
    "\n",
    "## Ajudsting class targets in order to begin from zero\n",
    "y_test = np.array(y_test)-1\n",
    "y_train = np.array(y_train)-1"
   ]
  },
  {
   "cell_type": "code",
   "execution_count": null,
   "metadata": {},
   "outputs": [],
   "source": [
    "## Standardizing data if selected\n",
    "if IS_STANDARDIZED==False:    \n",
    "    from sklearn.preprocessing import StandardScaler\n",
    "\n",
    "    std_scaler = StandardScaler()\n",
    "\n",
    "    X_train = std_scaler.fit_transform(X_train)\n",
    "    X_test = std_scaler.transform(X_test)\n",
    "    "
   ]
  },
  {
   "cell_type": "markdown",
   "metadata": {},
   "source": [
    "## Model Selection and Retraining"
   ]
  },
  {
   "cell_type": "code",
   "execution_count": null,
   "metadata": {},
   "outputs": [],
   "source": [
    "## Loading Model\n",
    "model = keras.model.load_model(MODEL_PATH+MODEL_NAME, compile=True)\n",
    "\n",
    "## Setting up Callbacks\n",
    "early_stopping = keras.callbacks.EarlyStopping(patience=15\n",
    "                                              , restore_best_weights=True)\n",
    "checkpoint = keras.callbacks.ModelCheckpoint(MODEL_PATH+MODEL_NAME\n",
    "                                            , save_best_only=True)\n",
    "## Retraining Model\n",
    "if RETRAIN_MODEL==True:\n",
    "    model.fit(X_train, y_train, callbacks=[early_stopping]\n",
    "             , epochs=n_epochs, workers=n_workers)\n",
    "\n",
    "predictions = model.predict(X_test)"
   ]
  },
  {
   "cell_type": "markdown",
   "metadata": {},
   "source": [
    "##  Confusion Matrix, Accuracy, Precison-Recall and ROC"
   ]
  },
  {
   "cell_type": "code",
   "execution_count": null,
   "metadata": {},
   "outputs": [],
   "source": [
    "from scikit_learn.metrics import roc_curve, auc_roc_score\n",
    "from sklearn.metrics import confusion_matrix, precision_recall_curve, average_precision_score\n",
    "\n",
    "### Confusion Matrix"
   ]
  },
  {
   "cell_type": "code",
   "execution_count": null,
   "metadata": {},
   "outputs": [],
   "source": []
  },
  {
   "cell_type": "code",
   "execution_count": null,
   "metadata": {},
   "outputs": [],
   "source": []
  }
 ],
 "metadata": {
  "kernelspec": {
   "display_name": "Python 3",
   "language": "python",
   "name": "python3"
  },
  "language_info": {
   "codemirror_mode": {
    "name": "ipython",
    "version": 3
   },
   "file_extension": ".py",
   "mimetype": "text/x-python",
   "name": "python",
   "nbconvert_exporter": "python",
   "pygments_lexer": "ipython3",
   "version": "3.7.4"
  }
 },
 "nbformat": 4,
 "nbformat_minor": 2
}
