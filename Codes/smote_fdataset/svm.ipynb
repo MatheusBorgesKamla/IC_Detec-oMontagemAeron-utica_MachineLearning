{
 "cells": [
  {
   "cell_type": "markdown",
   "metadata": {},
   "source": [
    "# SVM Parameter Tuning"
   ]
  },
  {
   "cell_type": "markdown",
   "metadata": {},
   "source": [
    "### Setting up variables, library and data"
   ]
  },
  {
   "cell_type": "code",
   "execution_count": 2,
   "metadata": {},
   "outputs": [],
   "source": [
    "import pandas as pd\n",
    "import numpy as np\n",
    "\n",
    "## Data path handlers\n",
    "TRAIN_TEST_SET_PATH = 'dataset/'\n",
    "META_DATA_PATH = '../../Data/meta/'\n",
    "AUG_SET_PATH = '../../Data/aug_data_all/'\n",
    "MODEL_PATH = 'models/'\n",
    "IMAGES_PATH = '../../Images/'\n",
    "\n",
    "## Selecting the desired features\n",
    "parameters = ['fz','mz']"
   ]
  },
  {
   "cell_type": "code",
   "execution_count": 3,
   "metadata": {},
   "outputs": [],
   "source": [
    "### Getting data\n",
    "X_train = pd.read_csv(TRAIN_TEST_SET_PATH+'X_train.csv',index_col=0)\n",
    "y_train = pd.read_csv(TRAIN_TEST_SET_PATH+'y_train.csv',index_col=0)\n",
    "X_test = pd.read_csv(TRAIN_TEST_SET_PATH+'X_test.csv',index_col=0)\n",
    "y_test = pd.read_csv(TRAIN_TEST_SET_PATH+'y_test.csv',index_col=0)"
   ]
  },
  {
   "cell_type": "code",
   "execution_count": 4,
   "metadata": {},
   "outputs": [],
   "source": [
    "### Standardizing the data\n",
    "f_z = X_train.iloc[:, X_train.columns.str.contains(parameters[0])]\n",
    "f_z = f_z/30\n",
    "m_z = X_train.iloc[:, X_train.columns.str.contains(parameters[1])]\n",
    "m_z = m_z/3\n",
    "frames = [f_z, m_z]\n",
    "X_train = pd.concat(frames, axis=1)\n",
    "f_z = X_test.iloc[:, X_test.columns.str.contains(parameters[0])]\n",
    "f_z = f_z/30\n",
    "m_z = X_test.iloc[:, X_test.columns.str.contains(parameters[1])]\n",
    "m_z = m_z/3\n",
    "frames = [f_z, m_z]\n",
    "X_test = pd.concat(frames, axis=1)"
   ]
  },
  {
   "cell_type": "code",
   "execution_count": 5,
   "metadata": {},
   "outputs": [],
   "source": [
    "### Creating the validation set\n",
    "X_train['labels'] = y_train.copy()\n",
    "\n",
    "from sklearn.model_selection import StratifiedShuffleSplit\n",
    "split = StratifiedShuffleSplit(n_splits=1, test_size=0.2, random_state=27)\n",
    "for train, val in split.split(X_train, X_train['labels']):\n",
    "    X_train_vl = X_train.iloc[train].copy()\n",
    "    X_val = X_train.iloc[val].copy()\n",
    "    \n",
    "y_train_vl = X_train_vl['labels'].copy()\n",
    "y_val = X_val['labels'].copy()\n",
    "\n",
    "X_train_vl = X_train_vl.iloc[:, ~X_train_vl.columns.str.contains('labels')]\n",
    "X_val = X_val.iloc[:, ~X_val.columns.str.contains('labels')]\n",
    "X_train = X_train.iloc[:, ~X_train.columns.str.contains('labels')]\n",
    "X_train = np.array(X_train)\n",
    "X_test = np.array(X_test)\n",
    "\n",
    "y_train_vl = np.array(y_train_vl)\n",
    "y_val = np.array(y_val)\n",
    "y_test = np.array(y_test)\n",
    "y_train = np.array(y_train)"
   ]
  },
  {
   "cell_type": "markdown",
   "metadata": {},
   "source": [
    "### Setting up the svm model"
   ]
  },
  {
   "cell_type": "code",
   "execution_count": 6,
   "metadata": {},
   "outputs": [],
   "source": [
    "### Model sketch\n",
    "def  build_model(C=1,gamma=0.01,kernel='rbf'):\n",
    "    from sklearn.svm import SVC\n",
    "    model = SVC(C = 1, kernel = 'rbf', probability=True, gamma=0.01, verbose=True)\n",
    "    return model\n",
    "\n",
    "svm_classifier = build_model()"
   ]
  },
  {
   "cell_type": "markdown",
   "metadata": {},
   "source": [
    "### Hyperparameter optimization"
   ]
  },
  {
   "cell_type": "code",
   "execution_count": 7,
   "metadata": {},
   "outputs": [
    {
     "name": "stdout",
     "output_type": "stream",
     "text": [
      "Fitting 3 folds for each of 196 candidates, totalling 588 fits\n"
     ]
    },
    {
     "name": "stderr",
     "output_type": "stream",
     "text": [
      "[Parallel(n_jobs=-1)]: Using backend LokyBackend with 4 concurrent workers.\n",
      "[Parallel(n_jobs=-1)]: Done  24 tasks      | elapsed:    6.9s\n",
      "[Parallel(n_jobs=-1)]: Done 120 tasks      | elapsed:   31.9s\n",
      "[Parallel(n_jobs=-1)]: Done 280 tasks      | elapsed:  1.2min\n",
      "[Parallel(n_jobs=-1)]: Done 504 tasks      | elapsed:  2.2min\n",
      "[Parallel(n_jobs=-1)]: Done 588 out of 588 | elapsed:  2.6min finished\n"
     ]
    },
    {
     "name": "stdout",
     "output_type": "stream",
     "text": [
      "[LibSVM]"
     ]
    },
    {
     "data": {
      "text/plain": [
       "GridSearchCV(cv=3, error_score=nan,\n",
       "             estimator=SVC(C=1, break_ties=False, cache_size=200,\n",
       "                           class_weight=None, coef0=0.0,\n",
       "                           decision_function_shape='ovr', degree=3, gamma=0.01,\n",
       "                           kernel='rbf', max_iter=-1, probability=True,\n",
       "                           random_state=None, shrinking=True, tol=0.001,\n",
       "                           verbose=True),\n",
       "             iid='deprecated', n_jobs=-1,\n",
       "             param_grid={'C': [0.1, 0.5, 1, 5, 10, 50, 100],\n",
       "                         'gamma': [0.001, 0.005, 0.01, 0.05, 0.1, 0.5, 1],\n",
       "                         'kernel': ['rbf', 'poly', 'sigmoid', 'linear']},\n",
       "             pre_dispatch='2*n_jobs', refit=True, return_train_score=False,\n",
       "             scoring=None, verbose=3)"
      ]
     },
     "execution_count": 7,
     "metadata": {},
     "output_type": "execute_result"
    }
   ],
   "source": [
    "### Hyperparameter Optimization\n",
    "#from sklearn.model_selection import RandomizedSearchCV\n",
    "from sklearn.model_selection import GridSearchCV\n",
    "\n",
    "params = {\n",
    "    'C': [0.1,0.5,1,5,10,50,100],\n",
    "    'gamma': [0.001,0.005,0.01,0.05,0.1,0.5,1],\n",
    "    'kernel': ['rbf', 'poly', 'sigmoid', 'linear']\n",
    "}\n",
    "\n",
    "rnd_search = GridSearchCV(svm_classifier, params, cv=3, n_jobs=-1, verbose=3)\n",
    "\n",
    "rnd_search.fit(X_train_vl, y_train_vl)\n",
    "\n"
   ]
  },
  {
   "cell_type": "code",
   "execution_count": 8,
   "metadata": {},
   "outputs": [
    {
     "data": {
      "text/plain": [
       "0.8388338833883388"
      ]
     },
     "execution_count": 8,
     "metadata": {},
     "output_type": "execute_result"
    }
   ],
   "source": [
    "### Best validation score\n",
    "rnd_search.best_score_"
   ]
  },
  {
   "cell_type": "code",
   "execution_count": 10,
   "metadata": {},
   "outputs": [
    {
     "data": {
      "text/plain": [
       "{'C': 0.5, 'gamma': 0.05, 'kernel': 'rbf'}"
      ]
     },
     "execution_count": 10,
     "metadata": {},
     "output_type": "execute_result"
    }
   ],
   "source": [
    "### Best set of hyperparameters\n",
    "best_parameters = pd.DataFrame(rnd_search.best_params_, index=['values'])\n",
    "best_parameters.to_csv(MODEL_PATH+'svm_original_data.csv')\n",
    "\n",
    "rnd_search.best_params_"
   ]
  },
  {
   "cell_type": "markdown",
   "metadata": {},
   "source": [
    "### Training the reference model"
   ]
  },
  {
   "cell_type": "code",
   "execution_count": 20,
   "metadata": {},
   "outputs": [
    {
     "name": "stdout",
     "output_type": "stream",
     "text": [
      "[LibSVM]"
     ]
    },
    {
     "data": {
      "text/plain": [
       "SVC(C=0.5, break_ties=False, cache_size=200, class_weight=None, coef0=0.0,\n",
       "    decision_function_shape='ovr', degree=3, gamma=0.05, kernel='rbf',\n",
       "    max_iter=-1, probability=True, random_state=None, shrinking=True, tol=0.001,\n",
       "    verbose=True)"
      ]
     },
     "execution_count": 20,
     "metadata": {},
     "output_type": "execute_result"
    }
   ],
   "source": [
    "### Selecting and retraining the best model\n",
    "best = rnd_search.best_estimator_\n",
    "best.fit(X_train, y_train.ravel())"
   ]
  },
  {
   "cell_type": "code",
   "execution_count": 22,
   "metadata": {},
   "outputs": [
    {
     "name": "stdout",
     "output_type": "stream",
     "text": [
      "\n",
      "\n",
      "Confusion Matrix: \n",
      " [[60  0  1]\n",
      " [12  0  0]\n",
      " [ 4  0 19]]\n",
      "Accuracy:  0.8229166666666666\n"
     ]
    },
    {
     "data": {
      "text/plain": [
       "['models/svm_original_data.pkl']"
      ]
     },
     "execution_count": 22,
     "metadata": {},
     "output_type": "execute_result"
    }
   ],
   "source": [
    "### Model evaluation in accuracy terms\n",
    "y_predict = best.predict(X_test)\n",
    "from sklearn.metrics import confusion_matrix\n",
    "from sklearn.metrics import accuracy_score\n",
    "\n",
    "cm = confusion_matrix(y_test, y_predict)\n",
    "print('\\n\\nConfusion Matrix: \\n', cm)\n",
    "acc = accuracy_score(y_test, y_predict)\n",
    "print('Accuracy: ', acc)\n",
    "\n",
    "#Saving model\n",
    "from sklearn.externals import joblib\n",
    "joblib.dump(best,MODEL_PATH+\"svm_original_data.pkl\")"
   ]
  }
 ],
 "metadata": {
  "kernelspec": {
   "display_name": "Python 3",
   "language": "python",
   "name": "python3"
  },
  "language_info": {
   "codemirror_mode": {
    "name": "ipython",
    "version": 3
   },
   "file_extension": ".py",
   "mimetype": "text/x-python",
   "name": "python",
   "nbconvert_exporter": "python",
   "pygments_lexer": "ipython3",
   "version": "3.7.4"
  }
 },
 "nbformat": 4,
 "nbformat_minor": 2
}
